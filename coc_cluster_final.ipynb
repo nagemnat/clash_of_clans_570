{
 "cells": [
  {
   "cell_type": "code",
   "execution_count": 1,
   "metadata": {},
   "outputs": [
    {
     "output_type": "stream",
     "name": "stderr",
     "text": "[nltk_data] Downloading package stopwords to\n[nltk_data]     C:\\Users\\nagem\\AppData\\Roaming\\nltk_data...\n[nltk_data]   Package stopwords is already up-to-date!\n"
    }
   ],
   "source": [
    "#import some libraries\n",
    "import nltk\n",
    "from pprint import pprint\n",
    "import csv\n",
    "from typing import List\n",
    "import re\n",
    "from collections import Counter\n",
    "import numpy as np\n",
    "import pandas as pd\n",
    "from IPython.display import clear_output\n",
    "import pickle\n",
    "from sklearn.externals import joblib\n",
    "\n",
    "from sklearn.feature_extraction.text import TfidfVectorizer, CountVectorizer\n",
    "from sklearn import decomposition, ensemble, cluster\n",
    "from sklearn.decomposition import PCA\n",
    "from sklearn.externals import joblib\n",
    "from nltk.tokenize import word_tokenize,sent_tokenize\n",
    "\n",
    "from nltk.corpus import stopwords # library \n",
    "nltk.download('stopwords')\n",
    "all_stopwords = set(stopwords.words('english')) # set the language \n",
    "from sklearn.cluster import KMeans\n",
    "from sklearn import metrics\n",
    "from sklearn.cluster import MiniBatchKMeans\n",
    "import matplotlib.pyplot as plt\n",
    "import seaborn as sns\n",
    "%matplotlib inline"
   ]
  },
  {
   "cell_type": "code",
   "execution_count": 11,
   "metadata": {},
   "outputs": [
    {
     "output_type": "stream",
     "name": "stderr",
     "text": "[nltk_data] Downloading package stopwords to\n[nltk_data]     C:\\Users\\nagem\\AppData\\Roaming\\nltk_data...\n[nltk_data]   Package stopwords is already up-to-date!\n"
    }
   ],
   "source": [
    "# #remove stop-words\n",
    "# from nltk.corpus import stopwords # library \n",
    "# nltk.download('stopwords')\n",
    "# all_stopwords = set(stopwords.words('english')) # set the language "
   ]
  },
  {
   "cell_type": "code",
   "execution_count": 2,
   "metadata": {},
   "outputs": [
    {
     "output_type": "stream",
     "name": "stdout",
     "text": "review  sentiment\n0               💜💜💜          5\n1  Pls make it th13          3\n"
    },
    {
     "output_type": "execute_result",
     "data": {
      "text/plain": "          sentiment\ncount  50001.000000\nmean       4.612628\nstd        1.026489\nmin        1.000000\n25%        5.000000\n50%        5.000000\n75%        5.000000\nmax        5.000000",
      "text/html": "<div>\n<style scoped>\n    .dataframe tbody tr th:only-of-type {\n        vertical-align: middle;\n    }\n\n    .dataframe tbody tr th {\n        vertical-align: top;\n    }\n\n    .dataframe thead th {\n        text-align: right;\n    }\n</style>\n<table border=\"1\" class=\"dataframe\">\n  <thead>\n    <tr style=\"text-align: right;\">\n      <th></th>\n      <th>sentiment</th>\n    </tr>\n  </thead>\n  <tbody>\n    <tr>\n      <th>count</th>\n      <td>50001.000000</td>\n    </tr>\n    <tr>\n      <th>mean</th>\n      <td>4.612628</td>\n    </tr>\n    <tr>\n      <th>std</th>\n      <td>1.026489</td>\n    </tr>\n    <tr>\n      <th>min</th>\n      <td>1.000000</td>\n    </tr>\n    <tr>\n      <th>25%</th>\n      <td>5.000000</td>\n    </tr>\n    <tr>\n      <th>50%</th>\n      <td>5.000000</td>\n    </tr>\n    <tr>\n      <th>75%</th>\n      <td>5.000000</td>\n    </tr>\n    <tr>\n      <th>max</th>\n      <td>5.000000</td>\n    </tr>\n  </tbody>\n</table>\n</div>"
     },
     "metadata": {},
     "execution_count": 2
    }
   ],
   "source": [
    "#load datset\n",
    "df = pd.read_csv('C:/Users/nagem/OneDrive/Documents/MSBA 2019/570/clash_of_clans_570/clash-of-clans.csv')\n",
    "reviews_data = pd.DataFrame({'review': df.Content, 'sentiment': df.Rating})\n",
    "print(reviews_data.head(2))\n",
    "\n",
    "# reading review data with panda frames \n",
    "reviews_data.describe()\n"
   ]
  },
  {
   "cell_type": "markdown",
   "metadata": {},
   "source": [
    "The dataset was loaded and 2 columns were kept, the one with reviews and the sentiment score which was on a scale of 1 to 5."
   ]
  },
  {
   "cell_type": "code",
   "execution_count": 3,
   "metadata": {},
   "outputs": [],
   "source": [
    "# encode non-anscii to anscii and then decode string\n",
    "reviews_data['review'] = reviews_data['review'].apply(lambda x: str(x).encode('ascii','ignore').decode())"
   ]
  },
  {
   "cell_type": "markdown",
   "metadata": {},
   "source": [
    "The reviews had some non-anscii characters which had to be encoded and decoded."
   ]
  },
  {
   "cell_type": "code",
   "execution_count": 4,
   "metadata": {},
   "outputs": [
    {
     "output_type": "stream",
     "name": "stdout",
     "text": "I hated film It disaster Poor bad acting\n"
    }
   ],
   "source": [
    "# The sentiments are either 'positive' or 'negative' and are evenly distributed. Lets preprocess the text using the simple tokenizer we built in last class. We call it preprocess_text now.\n",
    "def preprocess_text(text):\n",
    "    pattern1 = re.compile(\"<br /><br />|\\.\")\n",
    "    lines = re.split(pattern1, text)\n",
    "    tokens = []\n",
    "    for line in lines:\n",
    "        tokens += line.split(\" \")\n",
    "\n",
    "    # lowercase and remove any non-alphanumeric characters from tokens for normalize\n",
    "    normalized_tokens = [token for token in tokens if re.search(r\"^[A-Za-z]\\w*$\", token) is not None]\n",
    "    return  \" \".join([\n",
    "            token\n",
    "            for token in normalized_tokens\n",
    "            if token and token not in all_stopwords and len(tokens) > 1\n",
    "        ])\n",
    "    \n",
    "\n",
    "  \n",
    "custom_review = \"I hated the film. It was a disaster. Poor direction, bad acting.\"\n",
    "custom_review_tokens = preprocess_text(custom_review)\n",
    "print(custom_review_tokens)"
   ]
  },
  {
   "cell_type": "markdown",
   "metadata": {},
   "source": [
    "The reviews were cleaned and split into words. Normalization removed punctuation and stopwords. "
   ]
  },
  {
   "cell_type": "code",
   "execution_count": 5,
   "metadata": {},
   "outputs": [],
   "source": [
    "#apply preprocessing to review data\n",
    "reviews_data['review'] = reviews_data['review'].apply(preprocess_text)"
   ]
  },
  {
   "cell_type": "code",
   "execution_count": 6,
   "metadata": {},
   "outputs": [],
   "source": [
    "lower_count_thr = 1000 # rare words/tokens\n",
    "upper_count_thr = 5000 # frequent/common tokens\n",
    "\n",
    "vectorizer=TfidfVectorizer(min_df=lower_count_thr,max_df=upper_count_thr,binary=False,ngram_range=(1,1))"
   ]
  },
  {
   "cell_type": "markdown",
   "metadata": {},
   "source": [
    "Initialy the TfidVectorizer was tried with a lower threshold of 1000 and an upper count of 5000. The ngram_range was set to (1,1)."
   ]
  },
  {
   "cell_type": "code",
   "execution_count": 7,
   "metadata": {},
   "outputs": [],
   "source": [
    "tfidf_vectors = vectorizer.fit_transform(reviews_data['review'] )"
   ]
  },
  {
   "cell_type": "code",
   "execution_count": 8,
   "metadata": {},
   "outputs": [],
   "source": [
    "feature_names = vectorizer.get_feature_names()\n",
    "dense = tfidf_vectors.todense()\n",
    "denselist = dense.tolist()\n",
    "df = pd.DataFrame(denselist, columns=feature_names)"
   ]
  },
  {
   "cell_type": "code",
   "execution_count": 9,
   "metadata": {},
   "outputs": [
    {
     "output_type": "stream",
     "name": "stdout",
     "text": "50001\n    awesome  best       coc  ever  great   it     like  love  much  play  \\\n10      0.0   0.0  0.000000   0.0    0.0  0.0  0.00000   0.0   0.0   0.0   \n11      0.0   0.0  0.000000   0.0    0.0  0.0  0.00000   0.0   0.0   0.0   \n12      0.0   0.0  0.000000   0.0    0.0  0.0  0.00000   0.0   0.0   0.0   \n13      0.0   0.0  0.000000   0.0    0.0  0.0  0.64249   0.0   0.0   0.0   \n14      0.0   0.0  0.000000   0.0    0.0  0.0  0.00000   0.0   0.0   0.0   \n15      0.0   0.0  0.000000   0.0    0.0  0.0  0.00000   0.0   0.0   0.0   \n16      0.0   0.0  0.000000   0.0    0.0  0.0  0.00000   0.0   0.0   0.0   \n17      0.0   0.0  0.000000   0.0    0.0  0.0  0.00000   0.0   0.0   0.0   \n18      0.0   0.0  0.000000   0.0    0.0  0.0  0.00000   0.0   0.0   0.0   \n19      0.0   0.0  0.000000   0.0    0.0  0.0  0.00000   0.0   0.0   0.0   \n20      0.0   0.0  0.000000   0.0    1.0  0.0  0.00000   0.0   0.0   0.0   \n21      0.0   0.0  0.000000   0.0    0.0  0.0  0.00000   1.0   0.0   0.0   \n22      0.0   0.0  0.000000   0.0    0.0  0.0  0.00000   0.0   0.0   0.0   \n23      0.0   0.0  0.000000   0.0    0.0  0.0  0.00000   0.0   0.0   0.0   \n24      0.0   0.0  0.000000   0.0    0.0  0.0  0.00000   0.0   0.0   0.0   \n25      0.0   0.0  0.000000   0.0    0.0  0.0  0.00000   0.0   0.0   0.0   \n26      0.0   0.0  0.000000   0.0    0.0  0.0  0.00000   0.0   0.0   0.0   \n27      0.0   0.0  0.000000   0.0    0.0  0.0  0.00000   0.0   0.0   0.0   \n28      0.0   1.0  0.000000   0.0    0.0  0.0  0.00000   0.0   0.0   0.0   \n29      0.0   0.0  0.694754   0.0    0.0  0.0  0.00000   0.0   0.0   0.0   \n\n    please  super  supercell  this  time  very     world  \n10     0.0    0.0   0.000000   0.0   0.0   0.0  0.000000  \n11     0.0    0.0   0.000000   0.0   0.0   0.0  0.000000  \n12     0.0    0.0   0.000000   0.0   0.0   0.0  0.000000  \n13     0.0    0.0   0.766294   0.0   0.0   0.0  0.000000  \n14     0.0    0.0   0.000000   0.0   0.0   0.0  0.000000  \n15     0.0    0.0   0.000000   0.0   0.0   0.0  0.000000  \n16     0.0    0.0   0.000000   0.0   0.0   0.0  0.000000  \n17     0.0    0.0   0.000000   0.0   0.0   0.0  0.000000  \n18     0.0    0.0   0.000000   0.0   0.0   0.0  0.000000  \n19     0.0    0.0   0.000000   0.0   0.0   0.0  0.000000  \n20     0.0    0.0   0.000000   0.0   0.0   0.0  0.000000  \n21     0.0    0.0   0.000000   0.0   0.0   0.0  0.000000  \n22     0.0    0.0   0.000000   0.0   0.0   0.0  0.000000  \n23     0.0    0.0   0.000000   0.0   0.0   0.0  0.000000  \n24     0.0    0.0   0.000000   0.0   0.0   0.0  0.000000  \n25     0.0    1.0   0.000000   0.0   0.0   0.0  0.000000  \n26     0.0    0.0   0.000000   0.0   0.0   0.0  0.000000  \n27     0.0    0.0   0.000000   0.0   1.0   0.0  0.000000  \n28     0.0    0.0   0.000000   0.0   0.0   0.0  0.000000  \n29     0.0    0.0   0.000000   0.0   0.0   0.0  0.719247  \n"
    }
   ],
   "source": [
    "print(len(df))\n",
    "print(df[10:30])"
   ]
  },
  {
   "cell_type": "code",
   "execution_count": 10,
   "metadata": {},
   "outputs": [],
   "source": [
    "num_clust = 3\n",
    "km = KMeans(n_clusters = num_clust, max_iter=100, n_init=1)"
   ]
  },
  {
   "cell_type": "code",
   "execution_count": 11,
   "metadata": {},
   "outputs": [
    {
     "output_type": "execute_result",
     "data": {
      "text/plain": "KMeans(algorithm='auto', copy_x=True, init='k-means++', max_iter=100,\n       n_clusters=3, n_init=1, n_jobs=None, precompute_distances='auto',\n       random_state=None, tol=0.0001, verbose=0)"
     },
     "metadata": {},
     "execution_count": 11
    }
   ],
   "source": [
    "km.fit(tfidf_vectors)"
   ]
  },
  {
   "cell_type": "code",
   "execution_count": 12,
   "metadata": {},
   "outputs": [
    {
     "output_type": "stream",
     "name": "stdout",
     "text": "Top terms per cluster:\nCluster 0:\n love\n much\n coc\n play\n best\n supercell\n like\n it\n awesome\n great\nCluster 1:\n best\n like\n very\n it\n play\n time\n ever\n great\n super\n coc\nCluster 2:\n this\n best\n love\n play\n world\n awesome\n like\n ever\n time\n much\n"
    }
   ],
   "source": [
    "print(\"Top terms per cluster:\")\n",
    "order_centroids = km.cluster_centers_.argsort()[:, ::-1]\n",
    "terms = vectorizer.get_feature_names()\n",
    "for i in range(num_clust):\n",
    "    print(\"Cluster %d:\" % i),\n",
    "    for ind in order_centroids[i, :10]:\n",
    "        print(' %s' % terms[ind]),\n",
    "    print"
   ]
  },
  {
   "cell_type": "markdown",
   "metadata": {},
   "source": [
    "The resulting clusters were very positive and somewhat similar sounding. "
   ]
  },
  {
   "cell_type": "code",
   "execution_count": 13,
   "metadata": {},
   "outputs": [],
   "source": [
    "#Count vectorizer\n",
    "def run_kmeans(lower_count_thr, upper_count_thr, num_clust, n_gram_min, n_gram_max, reviews, max_iter=100, n_init=1): \n",
    "    vectorizer=TfidfVectorizer(min_df=lower_count_thr,max_df=upper_count_thr,binary=False,ngram_range=(n_gram_min,n_gram_max))\n",
    "\n",
    "    tfidf_vectors = vectorizer.fit_transform(reviews)\n",
    "\n",
    "    feature_names = vectorizer.get_feature_names()\n",
    "    dense = tfidf_vectors.todense()\n",
    "    denselist = dense.tolist()\n",
    "    df = pd.DataFrame(denselist, columns=feature_names)\n",
    "\n",
    "    # print('Length of denselist:\\n', len(df))\n",
    "    # print('#10-30 from denselist:\\n',df[10:30])\n",
    "\n",
    "    km = KMeans(n_clusters = num_clust, max_iter=max_iter, n_init=n_init)\n",
    "\n",
    "    km.fit(tfidf_vectors)\n",
    "\n",
    "    print(\"Top terms per cluster:\")\n",
    "    order_centroids = km.cluster_centers_.argsort()[:, ::-1]\n",
    "    terms = vectorizer.get_feature_names()\n",
    "    for i in range(num_clust):\n",
    "        print(\"\\nCluster %d:\" % i),\n",
    "        for ind in order_centroids[i, :10]:\n",
    "            print(' %s' % terms[ind]),\n",
    "        print"
   ]
  },
  {
   "cell_type": "markdown",
   "metadata": {},
   "source": [
    "A function was created to run multiple Kmeans with one cell that had adjustable parameters. Different variations were tried to see which would result in useful clusters. "
   ]
  },
  {
   "cell_type": "code",
   "execution_count": 15,
   "metadata": {},
   "outputs": [
    {
     "output_type": "stream",
     "name": "stdout",
     "text": "Top terms per cluster:\n\nCluster 0:\n super\n this\n love\n play\n like\n very\n world\n time\n it\n games\n\nCluster 1:\n best\n very\n this\n play\n time\n ever\n awesome\n coc\n world\n please\n\nCluster 2:\n like\n much\n play\n this\n coc\n love\n really\n it\n games\n best\n\nCluster 3:\n love\n much\n coc\n this\n best\n clash\n play\n playing\n clans\n supercell\n\nCluster 4:\n it\n great\n time\n best\n play\n love\n fun\n world\n awesome\n really\n"
    }
   ],
   "source": [
    "lower_count_thr = 500 # rare words/tokens\n",
    "upper_count_thr = 5000 # frequent/common tokens\n",
    "num_clust = 5\n",
    "n_gram_min = 1\n",
    "n_gram_max = 1\n",
    "reviews = reviews_data['review']\n",
    "\n",
    "run_kmeans(lower_count_thr, upper_count_thr, num_clust, n_gram_min, n_gram_max, reviews)    "
   ]
  },
  {
   "cell_type": "markdown",
   "metadata": {},
   "source": [
    "Since and overwhelming percentage of reviews were 5 star and had similar words, the lower and upper threshold were lowered to captured more unique words. "
   ]
  },
  {
   "cell_type": "code",
   "execution_count": 16,
   "metadata": {},
   "outputs": [
    {
     "output_type": "stream",
     "name": "stdout",
     "text": "Top terms per cluster:\n\nCluster 0:\n keep\n work\n new\n playing\n updates\n going\n update\n get\n games\n fun\n\nCluster 1:\n amazing\n games\n fun\n its\n the\n cool\n addictive\n update\n clash\n played\n\nCluster 2:\n graphics\n gameplay\n strategy\n amazing\n high\n addictive\n loved\n the\n cool\n troops\n\nCluster 3:\n hai\n pubg\n update\n download\n clans\n clash\n guys\n superb\n hall\n town\n\nCluster 4:\n upgrade\n lot\n takes\n long\n take\n fun\n get\n troops\n things\n town\n"
    }
   ],
   "source": [
    "lower_count_thr = 100 # rare words/tokens\n",
    "upper_count_thr = 1000 # frequent/common tokens\n",
    "num_clust = 5\n",
    "n_gram_min = 1\n",
    "n_gram_max = 1\n",
    "reviews = reviews_data['review']\n",
    "\n",
    "run_kmeans(lower_count_thr, upper_count_thr, num_clust, n_gram_min, n_gram_max, reviews)    "
   ]
  },
  {
   "cell_type": "code",
   "execution_count": 17,
   "metadata": {},
   "outputs": [
    {
     "output_type": "stream",
     "name": "stdout",
     "text": "Top terms per cluster:\n\nCluster 0:\n it\n best\n world\n play\n interesting\n like\n love\n awesome\n great\n amazing\n\nCluster 1:\n love\n best\n very\n like\n super\n ever\n great\n play\n time\n world\n\nCluster 2:\n hai\n pubg\n update\n coc\n very\n download\n love\n clans\n supercell\n clash\n\nCluster 3:\n this\n awesome\n best\n love\n world\n amazing\n like\n play\n ever\n interesting\n\nCluster 4:\n coc\n love\n best\n pubg\n like\n play\n world\n playing\n better\n games\n"
    }
   ],
   "source": [
    "lower_count_thr = 100 # rare words/tokens\n",
    "upper_count_thr = 5000 # frequent/common tokens\n",
    "num_clust = 5\n",
    "n_gram_min = 1\n",
    "n_gram_max = 1\n",
    "reviews = reviews_data['review']\n",
    "\n",
    "run_kmeans(lower_count_thr, upper_count_thr, num_clust, n_gram_min, n_gram_max, reviews)    "
   ]
  },
  {
   "cell_type": "markdown",
   "metadata": {},
   "source": [
    "Experiments with different number of ngrams were tested to see if more information could be interpreted from the clusters."
   ]
  },
  {
   "cell_type": "code",
   "execution_count": 18,
   "metadata": {},
   "outputs": [
    {
     "output_type": "stream",
     "name": "stdout",
     "text": "Top terms per cluster:\n\nCluster 0:\n please\n update\n give\n game please\n make\n add\n fix\n please add\n supercell\n please fix\n\nCluster 1:\n nice game\n love\n good game\n like\n this\n love game\n it\n super\n awesome\n play\n\nCluster 2:\n best\n best game\n ever\n game ever\n world\n game world\n played\n this best\n ever played\n this\n\nCluster 3:\n very\n very nice\n very good\n nice game\n good game\n addictive\n interesting\n bad\n interesting game\n much\n\nCluster 4:\n clash\n clans\n clash clans\n clash clan\n clan\n love clash\n love\n best\n play\n like\n"
    }
   ],
   "source": [
    "lower_count_thr = 100 # rare words/tokens\n",
    "upper_count_thr = 5000 # frequent/common tokens\n",
    "num_clust = 5\n",
    "n_gram_min = 1\n",
    "n_gram_max = 2\n",
    "reviews = reviews_data['review']\n",
    "\n",
    "run_kmeans(lower_count_thr, upper_count_thr, num_clust, n_gram_min, n_gram_max, reviews)    "
   ]
  },
  {
   "cell_type": "code",
   "execution_count": 19,
   "metadata": {},
   "outputs": [
    {
     "output_type": "stream",
     "name": "stdout",
     "text": "Top terms per cluster:\n\nCluster 0:\n super\n super game\n game super\n very\n it\n this\n world\n games\n like\n game world\n\nCluster 1:\n nice game\n very nice\n very\n so\n game like\n its\n like\n world\n game world\n game nice\n\nCluster 2:\n please\n update\n give\n game please\n make\n add\n fix\n please add\n supercell\n please fix\n\nCluster 3:\n good game\n best\n best game\n like\n this\n it\n very\n play\n awesome\n great\n\nCluster 4:\n love\n love game\n game love\n much\n game much\n this\n nice game\n this game\n play\n good game\n"
    }
   ],
   "source": [
    "lower_count_thr = 100 # rare words/tokens\n",
    "upper_count_thr = 5000 # frequent/common tokens\n",
    "num_clust = 5\n",
    "n_gram_min = 1\n",
    "n_gram_max = 2\n",
    "reviews = reviews_data['review']\n",
    "max_iter = 200\n",
    "n_init = 5\n",
    "\n",
    "run_kmeans(lower_count_thr, upper_count_thr, num_clust, n_gram_min, n_gram_max, reviews, max_iter, n_init)"
   ]
  },
  {
   "cell_type": "code",
   "execution_count": 20,
   "metadata": {},
   "outputs": [
    {
     "output_type": "stream",
     "name": "stdout",
     "text": "Top terms per cluster:\n\nCluster 0:\n it good game\n world best game\n love game much\n best strategy game\n this game good\n this best game\n the best game\n this good game\n like game much\n it best game\n\nCluster 1:\n very nice game\n game love game\n game best game\n best game world\n like game much\n best strategy game\n game ever played\n it best game\n it good game\n it nice game\n\nCluster 2:\n very good game\n game love game\n game best game\n this good game\n world best game\n this best game\n best game world\n this game best\n the best game\n very nice game\n\nCluster 3:\n best game world\n this best game\n it best game\n game best game\n the best game\n this game best\n world best game\n love game much\n like game much\n this good game\n\nCluster 4:\n game ever played\n best strategy game\n this best game\n the best game\n it best game\n game best game\n this game best\n game love game\n like game much\n world best game\n"
    }
   ],
   "source": [
    "lower_count_thr = 100 # rare words/tokens\n",
    "upper_count_thr = 800 # frequent/common tokens\n",
    "num_clust = 5\n",
    "n_gram_min = 3\n",
    "n_gram_max = 3\n",
    "reviews = reviews_data['review']\n",
    "max_iter = 200\n",
    "n_init = 5\n",
    "\n",
    "run_kmeans(lower_count_thr, upper_count_thr, num_clust, n_gram_min, n_gram_max, reviews, max_iter, n_init)"
   ]
  },
  {
   "cell_type": "code",
   "execution_count": 21,
   "metadata": {},
   "outputs": [
    {
     "output_type": "stream",
     "name": "stdout",
     "text": "Length rating1:  2877\nLength rating2:  583\nLength rating3:  1398\nLength rating4:  3316\nLength rating5:  41827\n"
    }
   ],
   "source": [
    "rating1 = reviews_data[reviews_data['sentiment']==1]['review']\n",
    "print('Length rating1: ', len(rating1))\n",
    "\n",
    "rating2 = reviews_data[reviews_data['sentiment']==2]['review']\n",
    "print('Length rating2: ', len(rating2))\n",
    "\n",
    "rating3 = reviews_data[reviews_data['sentiment']==3]['review']\n",
    "print('Length rating3: ', len(rating3))\n",
    "\n",
    "rating4 = reviews_data[reviews_data['sentiment']==4]['review']\n",
    "print('Length rating4: ', len(rating4))\n",
    "\n",
    "rating5 = reviews_data[reviews_data['sentiment']==5]['review']\n",
    "print('Length rating5: ', len(rating5))"
   ]
  },
  {
   "cell_type": "markdown",
   "metadata": {},
   "source": [
    "The reviews were then separated into groups based on rating and clusters made of each group."
   ]
  },
  {
   "cell_type": "markdown",
   "metadata": {},
   "source": [
    "## 1 star rating"
   ]
  },
  {
   "cell_type": "code",
   "execution_count": 22,
   "metadata": {},
   "outputs": [
    {
     "output_type": "stream",
     "name": "stdout",
     "text": "50 45001\nTop terms per cluster:\n\nCluster 0:\n this game\n supercell id\n good game\n play game\n game ever\n bad game\n worst game\n\nCluster 1:\n worst game\n game ever\n play game\n this game\n bad game\n supercell id\n good game\n\nCluster 2:\n bad game\n game ever\n play game\n this game\n good game\n worst game\n supercell id\n"
    }
   ],
   "source": [
    "lower_count_thr = round(len(reviews)*.001) # rare words/tokens\n",
    "upper_count_thr = round(len(reviews)*.9) # frequent/common tokens\n",
    "print(lower_count_thr, upper_count_thr)\n",
    "num_clust = 3\n",
    "n_gram_min = 2\n",
    "n_gram_max = 4\n",
    "reviews = rating1\n",
    "max_iter = 200\n",
    "n_init = 5\n",
    "\n",
    "run_kmeans(lower_count_thr, upper_count_thr, num_clust, n_gram_min, n_gram_max, reviews, max_iter, n_init)"
   ]
  },
  {
   "cell_type": "markdown",
   "metadata": {},
   "source": [
    "The one star rating had a large amount of negative words and some positive. Of the three clusters above, two were related to supercell sugesting this may be a factor in disatisfied users. "
   ]
  },
  {
   "cell_type": "code",
   "execution_count": 23,
   "metadata": {},
   "outputs": [
    {
     "output_type": "stream",
     "name": "stdout",
     "text": "1 2302\nTop terms per cluster:\n\nCluster 0:\n friend cant login\n login stuck loading\n login stuck loading page\n cant login stuck\n cant login stuck loading\n stuck loading page\n friend cant login stuck\n zyada boring hai seriously\n game thank devs\n game thank devs ruining\n\nCluster 1:\n very bad game\n worst game ever\n very good game\n pubg better coc\n game ever played\n worst game world\n time wasting game\n it good game\n worst game ever played\n clan war league\n\nCluster 2:\n much cache recent update\n much cache recent\n taking much cache recent\n taking much cache\n cache recent update\n zyada boring hai seriously\n game th lev\n game th12 coming\n game thank devs\n game thank devs ruining\n"
    }
   ],
   "source": [
    "lower_count_thr = round(len(reviews)*.0005) # rare words/tokens\n",
    "upper_count_thr = round(len(reviews)*.8) # frequent/common tokens\n",
    "print(lower_count_thr, upper_count_thr)\n",
    "num_clust = 3\n",
    "n_gram_min = 3\n",
    "n_gram_max = 4\n",
    "reviews = rating1\n",
    "max_iter = 200\n",
    "n_init = 5\n",
    "\n",
    "run_kmeans(lower_count_thr, upper_count_thr, num_clust, n_gram_min, n_gram_max, reviews, max_iter, n_init)"
   ]
  },
  {
   "cell_type": "markdown",
   "metadata": {},
   "source": [
    "We hypothesized that the majority of reviews in any rating category would be farely generic so further lowered the threshold  in hopes of capturing more unique and descriptive words. When the cluster focused more on rare words and use ngram of (3,4), we began to see some interesting things come out. In the clusters above, the cluster 0 seems to have pretty generic negative reviews. For cluster 1, one of the commonly repeated thems is devs, suggesting the players blame the developers for the negative state of the game. Cluster 2 references the tropps and battles with the emphasis on how unpredictable of inconsistent they were. "
   ]
  },
  {
   "cell_type": "code",
   "execution_count": 24,
   "metadata": {},
   "outputs": [
    {
     "output_type": "stream",
     "name": "stdout",
     "text": "3 1295\nTop terms per cluster:\n\nCluster 0:\n pubg better coc\n would give stars\n google play game\n it nice game\n it is so\n it good game\n it bad game\n is so bad\n id much upgraded face\n id much upgraded\n\nCluster 1:\n very bad game\n clan war league\n worst game world\n very good game\n it good game\n time wasting game\n remove supercell id\n this game bad\n bad game world\n the worst game\n\nCluster 2:\n super cell id\n using supercell id\n please please please\n login google play\n google play game\n back google play\n it nice game\n it is so\n it good game\n it bad game\n\nCluster 3:\n clash clans game\n time killer game\n would give stars\n google play sign\n it nice game\n it is so\n it good game\n it bad game\n is so bad\n id much upgraded face\n\nCluster 4:\n worst game ever\n worst game ever played\n game ever played\n game ever play\n the worst game\n this game worst\n game worst game\n google play sign\n game love game\n it good game\n"
    }
   ],
   "source": [
    "lower_count_thr = round(len(reviews)*.001) # rare words/tokens\n",
    "upper_count_thr = round(len(reviews)*.45) # frequent/common tokens\n",
    "print(lower_count_thr, upper_count_thr)\n",
    "num_clust = 5\n",
    "n_gram_min = 3\n",
    "n_gram_max = 4\n",
    "reviews = rating1\n",
    "max_iter = 50\n",
    "n_init = 5\n",
    "\n",
    "run_kmeans(lower_count_thr, upper_count_thr, num_clust, n_gram_min, n_gram_max, reviews, max_iter, n_init)"
   ]
  },
  {
   "cell_type": "markdown",
   "metadata": {},
   "source": [
    "A somewhat frequent occurance in the last few clusters was mention of google or google play. There maybe some aspect of google play that is causing users to have a bad experience. Another common occurance references \"id much upgraded\" or \"id much upgraded face\"."
   ]
  },
  {
   "cell_type": "markdown",
   "metadata": {},
   "source": [
    "## 2 star rating"
   ]
  },
  {
   "cell_type": "code",
   "execution_count": 25,
   "metadata": {},
   "outputs": [
    {
     "output_type": "stream",
     "name": "stdout",
     "text": "3 1438\nTop terms per cluster:\n\nCluster 0:\n time searching opponent\n game ever played\n clan war league\n town hall level\n it good game\n\nCluster 1:\n town hall level\n time searching opponent\n it good game\n game ever played\n clan war league\n\nCluster 2:\n it good game\n town hall level\n time searching opponent\n game ever played\n clan war league\n"
    }
   ],
   "source": [
    "lower_count_thr = round(len(reviews)*.001) # rare words/tokens\n",
    "upper_count_thr = round(len(reviews)*.5) # frequent/common tokens\n",
    "print(lower_count_thr, upper_count_thr)\n",
    "num_clust = 3\n",
    "n_gram_min = 3\n",
    "n_gram_max = 4\n",
    "reviews = rating2\n",
    "max_iter = 100\n",
    "n_init = 5\n",
    "\n",
    "run_kmeans(lower_count_thr, upper_count_thr, num_clust, n_gram_min, n_gram_max, reviews, max_iter, n_init)"
   ]
  },
  {
   "cell_type": "code",
   "execution_count": 26,
   "metadata": {},
   "outputs": [
    {
     "output_type": "stream",
     "name": "stdout",
     "text": "1 466\nTop terms per cluster:\n\nCluster 0:\n consuming lot battery\n add flag pakistan\n many maintenance break\n my troops showing\n kisaan mastar kishan\n this game died\n coc dont work\n wow brilliant game\n like better pubg\n need good grapics\n\nCluster 1:\n acc lock hours\n zuerst bestimmte gebude bauen\n game things wrong\n game starting hve edton\n game starting someone\n game starting someone may\n game stoped loading\n game stoped loading plz\n game stops back\n game stops back home\n\nCluster 2:\n game third class activity\n worst game third class\n worst game third\n class activity work\n third class activity\n third class activity work\n game third class\n zuerst bestimmte gebude bauen\n game stops back home\n game stops back\n"
    }
   ],
   "source": [
    "lower_count_thr = round(len(reviews)*.001) # rare words/tokens\n",
    "upper_count_thr = round(len(reviews)*.8) # frequent/common tokens\n",
    "print(lower_count_thr, upper_count_thr)\n",
    "num_clust = 3\n",
    "n_gram_min = 3\n",
    "n_gram_max = 4\n",
    "reviews = rating2\n",
    "max_iter = 100\n",
    "n_init = 5\n",
    "\n",
    "run_kmeans(lower_count_thr, upper_count_thr, num_clust, n_gram_min, n_gram_max, reviews, max_iter, n_init)"
   ]
  },
  {
   "cell_type": "markdown",
   "metadata": {},
   "source": [
    "Looking at the two star reviews, we see a some different topics occuring. In the clusters above, cluster 0 references money which may be related to the game requiring players to spend money in order to get better weapons. They are able to achieve it but it takes a very long time. cluster 2 references how long it takes to achieve nakakawala, again related to the time required to get certain things without spending money. "
   ]
  },
  {
   "cell_type": "markdown",
   "metadata": {},
   "source": [
    "## 3 star rating"
   ]
  },
  {
   "cell_type": "code",
   "execution_count": 27,
   "metadata": {},
   "outputs": [
    {
     "output_type": "stream",
     "name": "stdout",
     "text": "1 466\nTop terms per cluster:\n\nCluster 0:\n one alredy attached\n got star clan\n alredy attached base\n star clan war\n star clan war clear\n clan war clear\n clan war clear one\n war clear one alredy\n one alredy attached base\n got star clan war\n\nCluster 1:\n very good game\n best game ever\n very nice game\n world best game\n best strategic game\n nice game time\n good pubg best\n good game like\n time pass game\n good strategic game\n\nCluster 2:\n this good game\n zwischen truppe und fertig\n get behind the addition\n get enough loot upgrade\n get enough loot\n get easy clan games\n get easy clan\n get damaged heavily make\n get damaged heavily\n get clan war builder\n"
    }
   ],
   "source": [
    "lower_count_thr = round(len(reviews)*.001) # rare words/tokens\n",
    "upper_count_thr = round(len(reviews)*.8) # frequent/common tokens\n",
    "print(lower_count_thr, upper_count_thr)\n",
    "num_clust = 3\n",
    "n_gram_min = 3\n",
    "n_gram_max = 4\n",
    "reviews = rating3\n",
    "max_iter = 100\n",
    "n_init = 5\n",
    "\n",
    "run_kmeans(lower_count_thr, upper_count_thr, num_clust, n_gram_min, n_gram_max, reviews, max_iter, n_init)"
   ]
  },
  {
   "cell_type": "markdown",
   "metadata": {},
   "source": [
    "At 3 stars we start to see more positive sentiment again. In the above clusters, cluster 0 has pretty positive sentiment. Cluster 1 seems to talk about difficulties getting enough loot. Cluster 2 appears to be related to users that felt the main had become stale. "
   ]
  },
  {
   "cell_type": "code",
   "execution_count": 29,
   "metadata": {},
   "outputs": [
    {
     "output_type": "stream",
     "name": "stdout",
     "text": "0 839\nTop terms per cluster:\n\nCluster 0:\n very good game\n this good game\n best game ever\n very nice game\n world best game\n nice game time\n best strategic game\n good pubg best\n good game like\n time pass game\n\nCluster 1:\n please include flag pakistan\n include flag pakistan\n please include flag\n get behind the\n get enough loot\n get easy clan games\n get easy clan\n get damaged heavily make\n get damaged heavily\n get clan war builder\n"
    }
   ],
   "source": [
    "lower_count_thr = round(len(reviews)*.0001) # rare words/tokens\n",
    "upper_count_thr = round(len(reviews)*.6) # frequent/common tokens\n",
    "print(lower_count_thr, upper_count_thr)\n",
    "num_clust = 2\n",
    "n_gram_min = 3\n",
    "n_gram_max = 4\n",
    "reviews = rating3\n",
    "max_iter = 100\n",
    "n_init = 5\n",
    "\n",
    "run_kmeans(lower_count_thr, upper_count_thr, num_clust, n_gram_min, n_gram_max, reviews, max_iter, n_init)"
   ]
  },
  {
   "cell_type": "markdown",
   "metadata": {},
   "source": [
    "Another clustering of 3 start reviews had a class related to progress restart of deleted."
   ]
  },
  {
   "cell_type": "code",
   "execution_count": 30,
   "metadata": {},
   "outputs": [
    {
     "output_type": "stream",
     "name": "stdout",
     "text": "1 1118\nTop terms per cluster:\n\nCluster 0:\n like update problum\n zwischen truppe und fertig\n get behind the addition\n get far takes\n get enough loot upgrade\n get enough loot\n get easy clan games\n get easy clan\n get damaged heavily make\n get damaged heavily\n\nCluster 1:\n very good game\n this good game\n best game ever\n very nice game\n world best game\n nice game time\n best strategic game\n good pubg best\n good game like\n time pass game\n\nCluster 2:\n for refreshing mind\n zwischen truppe und fertig\n get clan war\n get far takes\n get enough loot upgrade\n get enough loot\n get easy clan games\n get easy clan\n get damaged heavily make\n get damaged heavily\n\nCluster 3:\n updates time big\n give updates time big\n give updates time\n please give updates\n please give updates time\n get behind the\n get enough loot\n get easy clan games\n get easy clan\n get damaged heavily make\n"
    }
   ],
   "source": [
    "lower_count_thr = round(len(reviews)*.0005) # rare words/tokens\n",
    "upper_count_thr = round(len(reviews)*.8) # frequent/common tokens\n",
    "print(lower_count_thr, upper_count_thr)\n",
    "num_clust = 4\n",
    "n_gram_min = 3\n",
    "n_gram_max = 4\n",
    "reviews = rating3\n",
    "max_iter = 100\n",
    "n_init = 5\n",
    "\n",
    "run_kmeans(lower_count_thr, upper_count_thr, num_clust, n_gram_min, n_gram_max, reviews, max_iter, n_init)"
   ]
  },
  {
   "cell_type": "markdown",
   "metadata": {},
   "source": [
    "In cluster 3 there are references to when connection was very bad during Christmas. "
   ]
  },
  {
   "cell_type": "code",
   "execution_count": 31,
   "metadata": {},
   "outputs": [
    {
     "output_type": "stream",
     "name": "stdout",
     "text": "2 909\nTop terms per cluster:\n\nCluster 0:\n very good game\n this good game\n like game much\n best game ever\n world best game\n it good game\n overall good game\n very nice game\n good pubg best\n good game time\n\nCluster 1:\n clan war league\n written maintaining break\n experience good lost account\n good game like\n good game but\n gmail account pls help\n gmail account pls\n give new update change\n give new update\n getting really bored waiting\n\nCluster 2:\n this game good\n game good time\n written maintaining break\n games take forever\n good game like\n good game but\n gmail account pls help\n gmail account pls\n give new update change\n give new update\n\nCluster 3:\n good game like\n its good game\n written maintaining break\n game would play\n good game but\n gmail account pls help\n gmail account pls\n give new update change\n give new update\n getting really bored waiting\n"
    }
   ],
   "source": [
    "lower_count_thr = round(len(reviews)*.0015) # rare words/tokens\n",
    "upper_count_thr = round(len(reviews)*.65) # frequent/common tokens\n",
    "print(lower_count_thr, upper_count_thr)\n",
    "num_clust = 4\n",
    "n_gram_min = 3\n",
    "n_gram_max = 4\n",
    "reviews = rating3\n",
    "max_iter = 100\n",
    "n_init = 5\n",
    "\n",
    "run_kmeans(lower_count_thr, upper_count_thr, num_clust, n_gram_min, n_gram_max, reviews, max_iter, n_init)"
   ]
  },
  {
   "cell_type": "markdown",
   "metadata": {},
   "source": [
    "In the clusters above, we again see gmail account mentioned. There may be issues that users are experiencing related to google or gmail accounts. "
   ]
  },
  {
   "cell_type": "markdown",
   "metadata": {},
   "source": [
    "## 4 star rating"
   ]
  },
  {
   "cell_type": "code",
   "execution_count": 32,
   "metadata": {},
   "outputs": [
    {
     "output_type": "stream",
     "name": "stdout",
     "text": "1 559\nTop terms per cluster:\n\nCluster 0:\n best game ever\n it good game\n very good game\n very nice game\n this good game\n good time pass\n its good game\n it best game\n nice game like\n nice game play\n\nCluster 1:\n great time killer\n zoom see base find\n game wait time\n game verry much\n game verry much please\n game very cool\n game very cool game\n game very very\n game very very much\n game wait bit\n\nCluster 2:\n my favourite game\n zoom see base find\n game wait time upgrade\n game verry much please\n game very cool\n game very cool game\n game very very\n game very very much\n game wait bit\n game wait bit much\n\nCluster 3:\n help get gems\n superb help get\n superb help get gems\n game world best\n game used people\n game used play\n game used play came\n game ver good\n game verry much\n game verry much please\n"
    }
   ],
   "source": [
    "lower_count_thr = round(len(reviews)*.0005) # rare words/tokens\n",
    "upper_count_thr = round(len(reviews)*.4) # frequent/common tokens\n",
    "print(lower_count_thr, upper_count_thr)\n",
    "num_clust = 4\n",
    "n_gram_min = 3\n",
    "n_gram_max = 4\n",
    "reviews = rating4\n",
    "max_iter = 100\n",
    "n_init = 5\n",
    "\n",
    "run_kmeans(lower_count_thr, upper_count_thr, num_clust, n_gram_min, n_gram_max, reviews, max_iter, n_init)"
   ]
  },
  {
   "cell_type": "markdown",
   "metadata": {},
   "source": [
    "With the 4 star ratings, we seem to have more positive sentiment than the previous ratings. Two new topics also appear. One refers to children and the other to dark or gold elixir."
   ]
  },
  {
   "cell_type": "code",
   "execution_count": 33,
   "metadata": {},
   "outputs": [],
   "source": [
    "## 5 star rating"
   ]
  },
  {
   "cell_type": "code",
   "execution_count": 110,
   "metadata": {},
   "outputs": [
    {
     "output_type": "stream",
     "name": "stdout",
     "text": "2 995\nLength of denselist:\n 41827\n#10-30 from denselist:\n     a1 game world  able join clan  able play friends  able to understand  \\\n10            0.0             0.0                0.0                 0.0   \n11            0.0             0.0                0.0                 0.0   \n12            0.0             0.0                0.0                 0.0   \n13            0.0             0.0                0.0                 0.0   \n14            0.0             0.0                0.0                 0.0   \n15            0.0             0.0                0.0                 0.0   \n16            0.0             0.0                0.0                 0.0   \n17            0.0             0.0                0.0                 0.0   \n18            0.0             0.0                0.0                 0.0   \n19            0.0             0.0                0.0                 0.0   \n20            0.0             0.0                0.0                 0.0   \n21            0.0             0.0                0.0                 0.0   \n22            0.0             0.0                0.0                 0.0   \n23            0.0             0.0                0.0                 0.0   \n24            0.0             0.0                0.0                 0.0   \n25            0.0             0.0                0.0                 0.0   \n26            0.0             0.0                0.0                 0.0   \n27            0.0             0.0                0.0                 0.0   \n28            0.0             0.0                0.0                 0.0   \n29            0.0             0.0                0.0                 0.0   \n\n    able to understand the  absolutely brilliant game  absolutely love game  \\\n10                     0.0                        0.0                   0.0   \n11                     0.0                        0.0                   0.0   \n12                     0.0                        0.0                   0.0   \n13                     0.0                        0.0                   0.0   \n14                     0.0                        0.0                   0.0   \n15                     0.0                        0.0                   0.0   \n16                     0.0                        0.0                   0.0   \n17                     0.0                        0.0                   0.0   \n18                     0.0                        0.0                   0.0   \n19                     0.0                        0.0                   0.0   \n20                     0.0                        0.0                   0.0   \n21                     0.0                        0.0                   0.0   \n22                     0.0                        0.0                   0.0   \n23                     0.0                        0.0                   0.0   \n24                     0.0                        0.0                   0.0   \n25                     0.0                        0.0                   0.0   \n26                     0.0                        0.0                   0.0   \n27                     0.0                        0.0                   0.0   \n28                     0.0                        0.0                   0.0   \n29                     0.0                        0.0                   0.0   \n\n    acceptable enemy thanks  account hacked supercell  \\\n10                      0.0                       0.0   \n11                      0.0                       0.0   \n12                      0.0                       0.0   \n13                      0.0                       0.0   \n14                      0.0                       0.0   \n15                      0.0                       0.0   \n16                      0.0                       0.0   \n17                      0.0                       0.0   \n18                      0.0                       0.0   \n19                      0.0                       0.0   \n20                      0.0                       0.0   \n21                      0.0                       0.0   \n22                      0.0                       0.0   \n23                      0.0                       0.0   \n24                      0.0                       0.0   \n25                      0.0                       0.0   \n26                      0.0                       0.0   \n27                      0.0                       0.0   \n28                      0.0                       0.0   \n29                      0.0                       0.0   \n\n    account playing account  ...  you have to  you must download  \\\n10                      0.0  ...          0.0                0.0   \n11                      0.0  ...          0.0                0.0   \n12                      0.0  ...          0.0                0.0   \n13                      0.0  ...          0.0                0.0   \n14                      0.0  ...          0.0                0.0   \n15                      0.0  ...          0.0                0.0   \n16                      0.0  ...          0.0                0.0   \n17                      0.0  ...          0.0                0.0   \n18                      0.0  ...          0.0                0.0   \n19                      0.0  ...          0.0                0.0   \n20                      0.0  ...          0.0                0.0   \n21                      0.0  ...          0.0                0.0   \n22                      0.0  ...          0.0                0.0   \n23                      0.0  ...          0.0                0.0   \n24                      0.0  ...          0.0                0.0   \n25                      0.0  ...          0.0                0.0   \n26                      0.0  ...          0.0                0.0   \n27                      0.0  ...          0.0                0.0   \n28                      0.0  ...          0.0                0.0   \n29                      0.0  ...          0.0                0.0   \n\n    you need add  you never bored  you play this  you play this game  \\\n10           0.0              0.0            0.0                 0.0   \n11           0.0              0.0            0.0                 0.0   \n12           0.0              0.0            0.0                 0.0   \n13           0.0              0.0            0.0                 0.0   \n14           0.0              0.0            0.0                 0.0   \n15           0.0              0.0            0.0                 0.0   \n16           0.0              0.0            0.0                 0.0   \n17           0.0              0.0            0.0                 0.0   \n18           0.0              0.0            0.0                 0.0   \n19           0.0              0.0            0.0                 0.0   \n20           0.0              0.0            0.0                 0.0   \n21           0.0              0.0            0.0                 0.0   \n22           0.0              0.0            0.0                 0.0   \n23           0.0              0.0            0.0                 0.0   \n24           0.0              0.0            0.0                 0.0   \n25           0.0              0.0            0.0                 0.0   \n26           0.0              0.0            0.0                 0.0   \n27           0.0              0.0            0.0                 0.0   \n28           0.0              0.0            0.0                 0.0   \n29           0.0              0.0            0.0                 0.0   \n\n    you want to  your game world  your game world best  yrs best game  \n10          0.0              0.0                   0.0            0.0  \n11          0.0              0.0                   0.0            0.0  \n12          0.0              0.0                   0.0            0.0  \n13          0.0              0.0                   0.0            0.0  \n14          0.0              0.0                   0.0            0.0  \n15          0.0              0.0                   0.0            0.0  \n16          0.0              0.0                   0.0            0.0  \n17          0.0              0.0                   0.0            0.0  \n18          0.0              0.0                   0.0            0.0  \n19          0.0              0.0                   0.0            0.0  \n20          0.0              0.0                   0.0            0.0  \n21          0.0              0.0                   0.0            0.0  \n22          0.0              0.0                   0.0            0.0  \n23          0.0              0.0                   0.0            0.0  \n24          0.0              0.0                   0.0            0.0  \n25          0.0              0.0                   0.0            0.0  \n26          0.0              0.0                   0.0            0.0  \n27          0.0              0.0                   0.0            0.0  \n28          0.0              0.0                   0.0            0.0  \n29          0.0              0.0                   0.0            0.0  \n\n[20 rows x 7420 columns]\nTop terms per cluster:\n\nCluster 0:\n best game ever\n best game world\n very good game\n game ever played\n it good game\n this best game\n love game much\n world best game\n best game ever played\n best strategy game\n\nCluster 1:\n my favourite games\n yrs best game\n game played far\n game play strategy\n game play supersell\n game play take\n game play this\n game play this game\n game play time\n game play years\n\nCluster 2:\n great time killer\n easy play yet\n this game strategy\n clash clans great\n time killer game\n take much time\n this game interesting\n time killer really\n very good game\n game great time killer\n\nCluster 3:\n very nice game\n nice game played\n nice game bro\n nice game game\n nice game but\n please download game\n game play take\n game play this\n game play this game\n game play time\n"
    }
   ],
   "source": [
    "lower_count_thr = round(len(reviews)*.0005) # rare words/tokens\n",
    "upper_count_thr = round(len(reviews)*.3) # frequent/common tokens\n",
    "print(lower_count_thr, upper_count_thr)\n",
    "num_clust = 4\n",
    "n_gram_min = 3\n",
    "n_gram_max = 4\n",
    "reviews = rating5\n",
    "max_iter = 100\n",
    "n_init = 5\n",
    "\n",
    "run_kmeans(lower_count_thr, upper_count_thr, num_clust, n_gram_min, n_gram_max, reviews, max_iter, n_init)"
   ]
  },
  {
   "cell_type": "markdown",
   "metadata": {},
   "source": [
    "The 5 star ratings were very positive in tone and did not provide much information on details about things that people liked or things that could be improved. "
   ]
  },
  {
   "cell_type": "markdown",
   "metadata": {},
   "source": [
    "The purpose of this research was in part to determine features of the game that players either liked or did not like so the developers could make improvements in those areas. \n",
    "\n",
    "* From one star ratings we see that players are likely unhappy about unpredictable troops and battle. \n",
    "* Two star reviews feel negatively about how long it takes to get further in the game without spending money. \n",
    "* For three star reviews the clusters suggest that players are having issue with their gmail or google play accounts. \n",
    "* Four star reviews reference dark or gold elixir it is seen with references to better and children. \n",
    "* The five star reviews did not seem to reference specific as the other ratings did. However, these were the majority of the reviews which suggests the game is well liked and negative things mentioned in lower star reviews do not greatly impact the majority of players badly. "
   ]
  }
 ],
 "metadata": {
  "language_info": {
   "codemirror_mode": {
    "name": "ipython",
    "version": 3
   },
   "file_extension": ".py",
   "mimetype": "text/x-python",
   "name": "python",
   "nbconvert_exporter": "python",
   "pygments_lexer": "ipython3",
   "version": "3.7.6-final"
  },
  "orig_nbformat": 2,
  "kernelspec": {
   "name": "python3",
   "display_name": "Python 3"
  }
 },
 "nbformat": 4,
 "nbformat_minor": 2
}
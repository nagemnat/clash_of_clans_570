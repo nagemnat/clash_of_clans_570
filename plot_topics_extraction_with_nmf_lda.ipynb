{
  "cells": [
    {
      "cell_type": "code",
      "execution_count": 3,
      "metadata": {
        "collapsed": false
      },
      "outputs": [],
      "source": [
        "#https://scikit-learn.org/stable/auto_examples/applications/plot_topics_extraction_with_nmf_lda.html#sphx-glr-auto-examples-applications-plot-topics-extraction-with-nmf-lda-py\n",
        "%matplotlib inline\n",
        "import pandas as pd"
      ]
    },
    {
      "cell_type": "code",
      "execution_count": 4,
      "metadata": {},
      "outputs": [
        {
          "output_type": "execute_result",
          "data": {
            "text/plain": "       Date                      Content              Name  Rating\n0  2/1/2019                          💜💜💜     Tusher shimul       5\n1  2/1/2019             Pls make it th13               NaN       3\n2  2/1/2019                   it is cute       jibon ahmed       5\n3  2/1/2019                       superb  Sunil Jayasingha       5\n4  2/1/2019  its an awesome game, period               NaN       5",
            "text/html": "<div>\n<style scoped>\n    .dataframe tbody tr th:only-of-type {\n        vertical-align: middle;\n    }\n\n    .dataframe tbody tr th {\n        vertical-align: top;\n    }\n\n    .dataframe thead th {\n        text-align: right;\n    }\n</style>\n<table border=\"1\" class=\"dataframe\">\n  <thead>\n    <tr style=\"text-align: right;\">\n      <th></th>\n      <th>Date</th>\n      <th>Content</th>\n      <th>Name</th>\n      <th>Rating</th>\n    </tr>\n  </thead>\n  <tbody>\n    <tr>\n      <th>0</th>\n      <td>2/1/2019</td>\n      <td>💜💜💜</td>\n      <td>Tusher shimul</td>\n      <td>5</td>\n    </tr>\n    <tr>\n      <th>1</th>\n      <td>2/1/2019</td>\n      <td>Pls make it th13</td>\n      <td>NaN</td>\n      <td>3</td>\n    </tr>\n    <tr>\n      <th>2</th>\n      <td>2/1/2019</td>\n      <td>it is cute</td>\n      <td>jibon ahmed</td>\n      <td>5</td>\n    </tr>\n    <tr>\n      <th>3</th>\n      <td>2/1/2019</td>\n      <td>superb</td>\n      <td>Sunil Jayasingha</td>\n      <td>5</td>\n    </tr>\n    <tr>\n      <th>4</th>\n      <td>2/1/2019</td>\n      <td>its an awesome game, period</td>\n      <td>NaN</td>\n      <td>5</td>\n    </tr>\n  </tbody>\n</table>\n</div>"
          },
          "metadata": {},
          "execution_count": 4
        }
      ],
      "source": [
        "#load datset\n",
        "df = pd.read_csv('C:/Users/nagem/OneDrive/Documents/MSBA 2019/570/clash_of_clans_570/clash-of-clans.csv')\n",
        "df.head()\n"
      ]
    },
    {
      "cell_type": "code",
      "execution_count": 5,
      "metadata": {},
      "outputs": [
        {
          "output_type": "stream",
          "name": "stdout",
          "text": "50001\n49999\n"
        }
      ],
      "source": [
        "#row 598 in different language remove row\n",
        "#37400 = nan\n",
        "rows_to_remove = [598, 37400]\n",
        "print(len(df))\n",
        "df.drop(index=rows_to_remove, inplace=True)\n",
        "print(len(df))"
      ]
    },
    {
      "cell_type": "code",
      "execution_count": 6,
      "metadata": {},
      "outputs": [
        {
          "output_type": "stream",
          "name": "stdout",
          "text": "💜💜💜\nPls make it th13\nit is cute\nsuperb\nits an awesome game, period\nwow\n"
        }
      ],
      "source": [
        "#load content into separate df\n",
        "content = df.Content\n",
        "\n",
        "#look at first 5 rows of content\n",
        "ctr = 0\n",
        "for row in content:\n",
        "    if ctr > 5:\n",
        "        break\n",
        "    print(row)\n",
        "    ctr+=1"
      ]
    },
    {
      "cell_type": "markdown",
      "metadata": {},
      "source": [
        "\n# Topic extraction with Non-negative Matrix Factorization and Latent Dirichlet Allocation\n\n\nThis is an example of applying :class:`sklearn.decomposition.NMF` and\n:class:`sklearn.decomposition.LatentDirichletAllocation` on a corpus\nof documents and extract additive models of the topic structure of the\ncorpus.  The output is a list of topics, each represented as a list of\nterms (weights are not shown).\n\nNon-negative Matrix Factorization is applied with two different objective\nfunctions: the Frobenius norm, and the generalized Kullback-Leibler divergence.\nThe latter is equivalent to Probabilistic Latent Semantic Indexing.\n\nThe default parameters (n_samples / n_features / n_components) should make\nthe example runnable in a couple of tens of seconds. You can try to\nincrease the dimensions of the problem, but be aware that the time\ncomplexity is polynomial in NMF. In LDA, the time complexity is\nproportional to (n_samples * iterations).\n"
      ]
    },
    {
      "cell_type": "code",
      "execution_count": null,
      "metadata": {},
      "outputs": [],
      "source": []
    },
    {
      "cell_type": "code",
      "execution_count": 11,
      "metadata": {
        "collapsed": false
      },
      "outputs": [
        {
          "output_type": "stream",
          "name": "stdout",
          "text": "Loading dataset...\ndone in 0.000s.\nExtracting tf-idf features for NMF...\ndone in 0.428s.\nExtracting tf features for LDA...\ndone in 0.424s.\n\nFitting the NMF model (Frobenius norm) with tf-idf features, n_samples=49999 and n_features=1000...\ndone in 5.626s.\n\nTopics in NMF model (Frobenius norm):\nTopic #0: nice games app graphics game gameplay really bro wow troops graphic apps time updates ok vary vry update job new verry need gem work strategy gane 12 experience children timepass\nTopic #1: good graphics app games really time game think job work pubg pass graphic strategy gameplay killer updates luck need verry apps controls control troops pretty vary thing liked ok soo\nTopic #2: game interesting fantastic favourite addictive superb loved bad wonderful played strategy favorite playing excellent supercell thanks download think life really boring mind years worst osm addicted wow beautiful better update\nTopic #3: love clash clans just app really supercell playing games clan game graphics years lot updates way new troops thanks addicting guys soo cell addicted gameplay make strategy gems thank 100\nTopic #4: best played strategy games pubg game life online forever seen app graphics mobile time supercell ve clash android strategic think worlds killer universe better clans clan far store war gameplay\nTopic #5: super cell duper games app supercell graphics sell thanks id wow update game hit account time clash addictive mass life killer gaming hall town clan entertainment updates played guys excited\nTopic #6: awesome just graphics really addictive games gameplay supercell thanks word update simply download experience say strategy loved played guys troops updates playing years new time game app totally control addicting\nTopic #7: like games really app pubg don clash supercell new make clans troops just town dont playing think graphics update clan people war lot add hall plz base gems strategy need\nTopic #8: great time killer graphics really strategy supercell games app addictive playing job way just updates think people gameplay experience pass overall recommend troops wow new friends years game work played\nTopic #9: amazing wow just really experience graphics app fantastic played loved games words playing supercell guys years troops things update strategy strategic think town work got gems new game slow waiting\nTopic #10: cool addictive really graphics bro app games just new soo update pretty people dude troops think make played thanks thank town addicting lot adictive wish star hall guys needs game\nTopic #11: world game think clash clans best bestest famous pubg worst favorite clan download bast number popular better supercell online 1st class enjoy 2nd coolest thank beat biggest games plz favourite\nTopic #12: coc pubg better games supercell playing thanks update life plz fan new id mobile favorite favourite player account make bad clan open lover hack need th come help want big\nTopic #13: fun addictive really addicting lot playing lots just challenging strategy time pretty long friends games strategic way exciting clan enjoy graphics having easy make real years consuming takes quite download\nTopic #14: play time clash clans games interesting clan killer update think supercell don friends years pass playing just easy pubg new want store enjoy loved really make long download better waste\n\nFitting the NMF model (generalized Kullback-Leibler divergence) with tf-idf features, n_samples=49999 and n_features=1000...\ndone in 8.637s.\n\nTopics in NMF model (generalized Kullback-Leibler divergence):\nTopic #0: game nice liked good intresting graphic vary graphics wow children addict attractive strategy try hard bro played entertainment verry adictive mind strategic wonderful slow online quality battle enjoyable expensive entertaining\nTopic #1: good verry luck controls application news realy sound gamers pretty ya main hero lover wizard exciting clashing stuff banned fabulous ice idea thats tooo apps lol lag increase th8 complete\nTopic #2: game played strategy wonderful favourite life osm awsome addicted mind lovely nyc beautiful perfect mast online supper mobile hai seen forever fabulous ve strategic blowing outstanding brilliant nic best gud\nTopic #3: love game asome just 100 fighting absolutely thats hooked heart fight flag soo hack playing tooo live guys came original feeling im pakistan thank thanks id yeah gamer old add\nTopic #4: best games app apps android far gam gane timepass west geme da luck online application blah love aap forever played fast favourite feature features feel feeling favorite fav faster لعبة\nTopic #5: super cell mass duper gaming hii sell lo hit se gift la excited bhi reading th9 tough geme fast ma team tnx leader response comes log uninstall write battery service\nTopic #6: awesome say word control quot entertainment man simply fully totally lv set boys loving believe th8 fact updated characters gam dude keeps girls rewards upgrades aa got daily school speechless\nTopic #7: like make troops games new war add base builder troop king gold gem need clan star gems want elixir god attack plz hero village league dark dont dragon feel donate\nTopic #8: great time graphics killer updates gameplay strategy work job gg way supercell people overall controls thats addiction oh killing games recommend bugs hope playing small stress future thinking gooooood coming\nTopic #9: amazing wow just app experience guys words improve omg enjoying semma loved mad absolutely graphics thought marvellous ive incredible improvements heart useful ausome got issues recent long things supercel adventurous\nTopic #10: cool pretty bro needs soo ice new low spell lvl osam adictive crazy features wizard acc mb sexy lit defence supersell strong khan miss funny sad added damn coins sooo\nTopic #11: world excellent think favorite worst bestest pubg nc famous bast beat epic class poor supercell clash popular hated number live 1st problems clans speechless quality luv 2nd bhai better ultimate\nTopic #12: coc update bad supercell loved pubg thanks better new hi account id thank gems plz help hate flag lost fix problem want open add old playing player need village pls\nTopic #13: fun addictive really playing time years play upgrade enjoy friends long lot addicting easy takes hard things money challenging way build bored upgrading battle attack wish troops just stop building\nTopic #14: play interesting clash superb fantastic ok clans clan download boring town hall don happy th pass waste slow level need want 12 time free dont know 13 try loading day\n\nFitting LDA models with tf features, n_samples=49999 and n_features=1000...\ndone in 22.213s.\n\nTopics in LDA model:\nTopic #0: game super world best pubg think better online cell elixir fabulous downloading needs dark content offline ll controls man gold famous means duper multiplayer pub barracks powerful share coolest bakwas\nTopic #1: good game app seen hate pretty nic break brain omg semma news islam especially lover feeling muslim intersting hang gamers sound incredible improved aap complaint personal tablet buy played stuff\nTopic #2: clash games clans enjoy friend graphic build king control tag trophies royale type stuff loving attacking apps stupid accounts company children heroes royal class realy faster cwl hated stopped matchmaking\nTopic #3: love game clan really strategy town hall war thank boring addicted ve league join 13 big 12 level buildings leader gets exciting legend reduce iam showing till leagues builders kind\nTopic #4: game nice update new bad mind slow hard takes loading troop army blowing bro brilliant intresting updated interested enjoying hello 100 version ive long space thought gives funny spells simple\nTopic #5: base problem fix thing pls quot things phone star change days stars hope times waiting able fast connection didn little did working bit let im wait war job rate lose\nTopic #6: amazing game make fantastic plz wow flag happy perfect come addicting request soon want gud pakistan sure el came verry bangladesh issue entertainment poor mb pakistani members primo possible live\nTopic #7: coc supercell game account id favourite help village lost mobile old thanks start tell got want google going option log th12 banned remove sir hack challenging plzz load hate giving\nTopic #8: game best played favorite worst awsome chat strategic nyc bored started ha outstanding popular bestest look addict features attractive worlds beat simply enjoyed global voice luv short clashing universe west\nTopic #9: awesome game ok im year dragon leave internet yes thats used difficult says delete far progress adventure strong okay battles oh yo shows mst speed ma archer 2nd hit ilove\nTopic #10: troops need game download excellent upgrade attack builder long people way players just work hai liked guys 10 time battle building loot use money support lot level wish feel want\nTopic #11: nice like add don hi try beautiful gameplay wizard screen india ice vary soo feature gg suggest sad yeah mode stuck crazy adictive small future nc barbarian edit nise changes\nTopic #12: game great fun cool addictive playing graphics superb years thanks life wonderful updates player day say lot making stop high improve free words spend word lots gameplay night mass wonder\nTopic #13: play gems game th friends want know max easy install forever level 12 android gold gem townhall version experience 11 store recommend coming lol hero events buy totally donate home\nTopic #14: time game interesting loved just killer dont open osm waste pass playing mast lovely supper login fan sucks taking training enjoyable tha fav left ur electro bhai server months black\n\n"
        }
      ],
      "source": [
        "# Author: Olivier Grisel <olivier.grisel@ensta.org>\n",
        "#         Lars Buitinck\n",
        "#         Chyi-Kwei Yau <chyikwei.yau@gmail.com>\n",
        "# License: BSD 3 clause\n",
        "\n",
        "from time import time\n",
        "\n",
        "from sklearn.feature_extraction.text import TfidfVectorizer, CountVectorizer\n",
        "from sklearn.decomposition import NMF, LatentDirichletAllocation\n",
        "from sklearn.datasets import fetch_20newsgroups\n",
        "\n",
        "n_samples = 49999\n",
        "n_features = 1000\n",
        "n_components = 15\n",
        "n_top_words = 30\n",
        "\n",
        "\n",
        "def print_top_words(model, feature_names, n_top_words):\n",
        "    for topic_idx, topic in enumerate(model.components_):\n",
        "        message = \"Topic #%d: \" % topic_idx\n",
        "        message += \" \".join([feature_names[i]\n",
        "                             for i in topic.argsort()[:-n_top_words - 1:-1]])\n",
        "        print(message)\n",
        "    print()\n",
        "\n",
        "\n",
        "# Load the 20 newsgroups dataset and vectorize it. We use a few heuristics\n",
        "# to filter out useless terms early on: the posts are stripped of headers,\n",
        "# footers and quoted replies, and common English words, words occurring in\n",
        "# only one document or in at least 95% of the documents are removed.\n",
        "\n",
        "print(\"Loading dataset...\")\n",
        "t0 = time()\n",
        "# data, _ = fetch_20newsgroups(shuffle=True, random_state=1,\n",
        "#                              remove=('headers', 'footers', 'quotes'),\n",
        "#                              return_X_y=True)\n",
        "\n",
        "# data_samples = data[:n_samples]\n",
        "data_samples = content[:n_samples]\n",
        "print(\"done in %0.3fs.\" % (time() - t0))\n",
        "\n",
        "# Use tf-idf features for NMF.\n",
        "print(\"Extracting tf-idf features for NMF...\")\n",
        "tfidf_vectorizer = TfidfVectorizer(max_df=0.95, min_df=2,\n",
        "                                   max_features=n_features,\n",
        "                                   stop_words='english')\n",
        "t0 = time()\n",
        "tfidf = tfidf_vectorizer.fit_transform(data_samples)\n",
        "print(\"done in %0.3fs.\" % (time() - t0))\n",
        "\n",
        "# Use tf (raw term count) features for LDA.\n",
        "print(\"Extracting tf features for LDA...\")\n",
        "tf_vectorizer = CountVectorizer(max_df=0.95, min_df=2,\n",
        "                                max_features=n_features,\n",
        "                                stop_words='english')\n",
        "t0 = time()\n",
        "tf = tf_vectorizer.fit_transform(data_samples)\n",
        "print(\"done in %0.3fs.\" % (time() - t0))\n",
        "print()\n",
        "\n",
        "# Fit the NMF model\n",
        "print(\"Fitting the NMF model (Frobenius norm) with tf-idf features, \"\n",
        "      \"n_samples=%d and n_features=%d...\"\n",
        "      % (n_samples, n_features))\n",
        "t0 = time()\n",
        "nmf = NMF(n_components=n_components, random_state=1,\n",
        "          alpha=.1, l1_ratio=.5).fit(tfidf)\n",
        "print(\"done in %0.3fs.\" % (time() - t0))\n",
        "\n",
        "print(\"\\nTopics in NMF model (Frobenius norm):\")\n",
        "tfidf_feature_names = tfidf_vectorizer.get_feature_names()\n",
        "print_top_words(nmf, tfidf_feature_names, n_top_words)\n",
        "\n",
        "# Fit the NMF model\n",
        "print(\"Fitting the NMF model (generalized Kullback-Leibler divergence) with \"\n",
        "      \"tf-idf features, n_samples=%d and n_features=%d...\"\n",
        "      % (n_samples, n_features))\n",
        "t0 = time()\n",
        "nmf = NMF(n_components=n_components, random_state=1,\n",
        "          beta_loss='kullback-leibler', solver='mu', max_iter=1000, alpha=.1,\n",
        "          l1_ratio=.5).fit(tfidf)\n",
        "print(\"done in %0.3fs.\" % (time() - t0))\n",
        "\n",
        "print(\"\\nTopics in NMF model (generalized Kullback-Leibler divergence):\")\n",
        "tfidf_feature_names = tfidf_vectorizer.get_feature_names()\n",
        "print_top_words(nmf, tfidf_feature_names, n_top_words)\n",
        "\n",
        "print(\"Fitting LDA models with tf features, \"\n",
        "      \"n_samples=%d and n_features=%d...\"\n",
        "      % (n_samples, n_features))\n",
        "lda = LatentDirichletAllocation(n_components=n_components, max_iter=5,\n",
        "                                learning_method='online',\n",
        "                                learning_offset=50.,\n",
        "                                random_state=0)\n",
        "t0 = time()\n",
        "lda.fit(tf)\n",
        "print(\"done in %0.3fs.\" % (time() - t0))\n",
        "\n",
        "print(\"\\nTopics in LDA model:\")\n",
        "tf_feature_names = tf_vectorizer.get_feature_names()\n",
        "print_top_words(lda, tf_feature_names, n_top_words)"
      ]
    }
  ],
  "metadata": {
    "kernelspec": {
      "display_name": "Python 3",
      "language": "python",
      "name": "python3"
    },
    "language_info": {
      "codemirror_mode": {
        "name": "ipython",
        "version": 3
      },
      "file_extension": ".py",
      "mimetype": "text/x-python",
      "name": "python",
      "nbconvert_exporter": "python",
      "pygments_lexer": "ipython3",
      "version": "3.7.6-final"
    }
  },
  "nbformat": 4,
  "nbformat_minor": 0
}
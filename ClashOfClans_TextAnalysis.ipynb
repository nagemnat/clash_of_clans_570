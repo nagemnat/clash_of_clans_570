{
 "cells": [
  {
   "cell_type": "code",
   "execution_count": 23,
   "metadata": {},
   "outputs": [],
   "source": [
    "#libraries\n",
    "import pandas as pd \n",
    "import nltk\n",
    "import csv\n",
    "from pprint import pprint   \n",
    "import re"
   ]
  },
  {
   "cell_type": "code",
   "execution_count": 24,
   "metadata": {},
   "outputs": [
    {
     "output_type": "execute_result",
     "data": {
      "text/plain": "       Date                      Content              Name  Rating\n0  2/1/2019                          💜💜💜     Tusher shimul       5\n1  2/1/2019             Pls make it th13               NaN       3\n2  2/1/2019                   it is cute       jibon ahmed       5\n3  2/1/2019                       superb  Sunil Jayasingha       5\n4  2/1/2019  its an awesome game, period               NaN       5",
      "text/html": "<div>\n<style scoped>\n    .dataframe tbody tr th:only-of-type {\n        vertical-align: middle;\n    }\n\n    .dataframe tbody tr th {\n        vertical-align: top;\n    }\n\n    .dataframe thead th {\n        text-align: right;\n    }\n</style>\n<table border=\"1\" class=\"dataframe\">\n  <thead>\n    <tr style=\"text-align: right;\">\n      <th></th>\n      <th>Date</th>\n      <th>Content</th>\n      <th>Name</th>\n      <th>Rating</th>\n    </tr>\n  </thead>\n  <tbody>\n    <tr>\n      <th>0</th>\n      <td>2/1/2019</td>\n      <td>💜💜💜</td>\n      <td>Tusher shimul</td>\n      <td>5</td>\n    </tr>\n    <tr>\n      <th>1</th>\n      <td>2/1/2019</td>\n      <td>Pls make it th13</td>\n      <td>NaN</td>\n      <td>3</td>\n    </tr>\n    <tr>\n      <th>2</th>\n      <td>2/1/2019</td>\n      <td>it is cute</td>\n      <td>jibon ahmed</td>\n      <td>5</td>\n    </tr>\n    <tr>\n      <th>3</th>\n      <td>2/1/2019</td>\n      <td>superb</td>\n      <td>Sunil Jayasingha</td>\n      <td>5</td>\n    </tr>\n    <tr>\n      <th>4</th>\n      <td>2/1/2019</td>\n      <td>its an awesome game, period</td>\n      <td>NaN</td>\n      <td>5</td>\n    </tr>\n  </tbody>\n</table>\n</div>"
     },
     "metadata": {},
     "execution_count": 24
    }
   ],
   "source": [
    "#load datset\n",
    "df = pd.read_csv('clash-of-clans.csv')\n",
    "df.head()\n"
   ]
  },
  {
   "cell_type": "code",
   "execution_count": 25,
   "metadata": {},
   "outputs": [
    {
     "output_type": "stream",
     "name": "stdout",
     "text": "💜💜💜\nPls make it th13\nit is cute\nsuperb\nits an awesome game, period\nwow\n"
    }
   ],
   "source": [
    "#load content into separate df\n",
    "content = df.Content\n",
    "\n",
    "#look at first 5 rows of content\n",
    "ctr = 0\n",
    "for row in content:\n",
    "    if ctr > 5:\n",
    "        break\n",
    "    print(row)\n",
    "    ctr+=1"
   ]
  },
  {
   "cell_type": "code",
   "execution_count": 26,
   "metadata": {},
   "outputs": [],
   "source": [
    "#create list of individual words\n",
    "tokens=[]\n",
    "\n",
    "for row in df:\n",
    "    tokens+=row.split(' ')"
   ]
  },
  {
   "cell_type": "code",
   "execution_count": 27,
   "metadata": {},
   "outputs": [],
   "source": [
    "#normalize tokens\n",
    "norrmalized_tokens = [re.sub(r'\\W+', '', token.lower()) for token in tokens]"
   ]
  },
  {
   "cell_type": "code",
   "execution_count": 28,
   "metadata": {},
   "outputs": [
    {
     "output_type": "execute_result",
     "data": {
      "text/plain": "['date', 'content', 'name', 'rating']"
     },
     "metadata": {},
     "execution_count": 28
    }
   ],
   "source": [
    "#look at list of normalized tokens\n",
    "norrmalized_tokens[:5]"
   ]
  }
 ],
 "metadata": {
  "language_info": {
   "codemirror_mode": {
    "name": "ipython",
    "version": 3
   },
   "file_extension": ".py",
   "mimetype": "text/x-python",
   "name": "python",
   "nbconvert_exporter": "python",
   "pygments_lexer": "ipython3",
   "version": "3.7.6-final"
  },
  "orig_nbformat": 2,
  "kernelspec": {
   "name": "python3",
   "display_name": "Python 3"
  }
 },
 "nbformat": 4,
 "nbformat_minor": 2
}